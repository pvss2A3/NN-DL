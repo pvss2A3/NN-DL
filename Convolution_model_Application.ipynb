{
 "cells": [
  {
   "cell_type": "markdown",
   "metadata": {},
   "source": [
    "# Convolutional Neural Networks: Application\n",
    "\n",
    "Welcome to Course 4's second assignment! In this notebook, you will:\n",
    "\n",
    "- Create a mood classifer using the TF Keras Sequential API\n",
    "- Build a ConvNet to identify sign language digits using the TF Keras Functional API\n",
    "\n",
    "**After this assignment you will be able to:**\n",
    "\n",
    "- Build and train a ConvNet in TensorFlow for a __binary__ classification problem\n",
    "- Build and train a ConvNet in TensorFlow for a __multiclass__ classification problem\n",
    "- Explain different use cases for the Sequential and Functional APIs\n",
    "\n",
    "To complete this assignment, you should already be familiar with TensorFlow. If you are not, please refer back to the **TensorFlow Tutorial** of the third week of Course 2 (\"**Improving deep neural networks**\")."
   ]
  },
  {
   "cell_type": "markdown",
   "metadata": {},
   "source": [
    "## Table of Contents\n",
    "\n",
    "- [1 - Packages](#1)\n",
    "    - [1.1 - Load the Data and Split the Data into Train/Test Sets](#1-1)\n",
    "- [2 - Layers in TF Keras](#2)\n",
    "- [3 - The Sequential API](#3)\n",
    "    - [3.1 - Create the Sequential Model](#3-1)\n",
    "        - [Exercise 1 - happyModel](#ex-1)\n",
    "    - [3.2 - Train and Evaluate the Model](#3-2)\n",
    "- [4 - The Functional API](#4)\n",
    "    - [4.1 - Load the SIGNS Dataset](#4-1)\n",
    "    - [4.2 - Split the Data into Train/Test Sets](#4-2)\n",
    "    - [4.3 - Forward Propagation](#4-3)\n",
    "        - [Exercise 2 - convolutional_model](#ex-2)\n",
    "    - [4.4 - Train the Model](#4-4)\n",
    "- [5 - History Object](#5)\n",
    "- [6 - Bibliography](#6)"
   ]
  },
  {
   "cell_type": "markdown",
   "metadata": {},
   "source": [
    "<a name='1'></a>\n",
    "## 1 - Packages\n",
    "\n",
    "As usual, begin by loading in the packages."
   ]
  },
  {
   "cell_type": "code",
   "execution_count": 1,
   "metadata": {},
   "outputs": [],
   "source": [
    "import math\n",
    "import numpy as np\n",
    "import h5py\n",
    "import matplotlib.pyplot as plt\n",
    "from matplotlib.pyplot import imread\n",
    "import scipy\n",
    "from PIL import Image\n",
    "import pandas as pd\n",
    "import tensorflow as tf\n",
    "import tensorflow.keras.layers as tfl\n",
    "from tensorflow.python.framework import ops\n",
    "from cnn_utils import *\n",
    "from test_utils import summary, comparator\n",
    "import tensorflow as tf\n",
    "\n",
    "%matplotlib inline\n",
    "np.random.seed(1)"
   ]
  },
  {
   "cell_type": "markdown",
   "metadata": {},
   "source": [
    "<a name='1-1'></a>\n",
    "### 1.1 - Load the Data and Split the Data into Train/Test Sets\n",
    "\n",
    "You'll be using the Happy House dataset for this part of the assignment, which contains images of peoples' faces. Your task will be to build a ConvNet that determines whether the people in the images are smiling or not -- because they only get to enter the house if they're smiling!  "
   ]
  },
  {
   "cell_type": "code",
   "execution_count": 2,
   "metadata": {},
   "outputs": [
    {
     "name": "stdout",
     "output_type": "stream",
     "text": [
      "number of training examples = 600\n",
      "number of test examples = 150\n",
      "X_train shape: (600, 64, 64, 3)\n",
      "Y_train shape: (600, 1)\n",
      "X_test shape: (150, 64, 64, 3)\n",
      "Y_test shape: (150, 1)\n"
     ]
    }
   ],
   "source": [
    "X_train_orig, Y_train_orig, X_test_orig, Y_test_orig, classes = load_happy_dataset()\n",
    "\n",
    "# Normalize image vectors\n",
    "X_train = X_train_orig/255.\n",
    "X_test = X_test_orig/255.\n",
    "\n",
    "# Reshape\n",
    "Y_train = Y_train_orig.T\n",
    "Y_test = Y_test_orig.T\n",
    "\n",
    "print (\"number of training examples = \" + str(X_train.shape[0]))\n",
    "print (\"number of test examples = \" + str(X_test.shape[0]))\n",
    "print (\"X_train shape: \" + str(X_train.shape))\n",
    "print (\"Y_train shape: \" + str(Y_train.shape))\n",
    "print (\"X_test shape: \" + str(X_test.shape))\n",
    "print (\"Y_test shape: \" + str(Y_test.shape))"
   ]
  },
  {
   "cell_type": "markdown",
   "metadata": {},
   "source": [
    "You can display the images contained in the dataset. Images are **64x64** pixels in RGB format (3 channels)."
   ]
  },
  {
   "cell_type": "code",
   "execution_count": 3,
   "metadata": {},
   "outputs": [
    {
     "data": {
      "image/png": "[encoded data removed]",
      "text/plain": [
       "<Figure size 432x288 with 1 Axes>"
      ]
     },
     "metadata": {
      "needs_background": "light"
     },
     "output_type": "display_data"
    }
   ],
   "source": [
    "index = 124\n",
    "plt.imshow(X_train_orig[index]) #display sample training image\n",
    "plt.show()"
   ]
  },
  {
   "cell_type": "markdown",
   "metadata": {},
   "source": [
    "<a name='2'></a>\n",
    "## 2 - Layers in TF Keras \n",
    "\n",
    "In the previous assignment, you created layers manually in numpy. In TF Keras, you don't have to write code directly to create layers. Rather, TF Keras has pre-defined layers you can use. \n",
    "\n",
    "When you create a layer in TF Keras, you are creating a function that takes some input and transforms it into an output you can reuse later. Nice and easy! "
   ]
  },
  {
   "cell_type": "markdown",
   "metadata": {},
   "source": [
    "<a name='3'></a>\n",
    "## 3 - The Sequential API\n",
    "\n",
    "In the previous assignment, you built helper functions using `numpy` to understand the mechanics behind convolutional neural networks. Most practical applications of deep learning today are built using programming frameworks, which have many built-in functions you can simply call. Keras is a high-level abstraction built on top of TensorFlow, which allows for even more simplified and optimized model creation and training. \n",
    "\n",
    "For the first part of this assignment, you'll create a model using TF Keras' Sequential API, which allows you to build layer by layer, and is ideal for building models where each layer has **exactly one** input tensor and **one** output tensor. \n",
    "\n",
    "As you'll see, using the Sequential API is simple and straightforward, but is only appropriate for simpler, more straightforward tasks. Later in this notebook you'll spend some time building with a more flexible, powerful alternative: the Functional API. \n",
    " "
   ]
  },
  {
   "cell_type": "markdown",
   "metadata": {},
   "source": [
    "<a name='3-1'></a>\n",
    "### 3.1 - Create the Sequential Model\n",
    "\n",
    "As mentioned earlier, the TensorFlow Keras Sequential API can be used to build simple models with layer operations that proceed in a sequential order. \n",
    "\n",
    "You can also add layers incrementally to a Sequential model with the `.add()` method, or remove them using the `.pop()` method, much like you would in a regular Python list.\n",
    "\n",
    "Actually, you can think of a Sequential model as behaving like a list of layers. Like Python lists, Sequential layers are ordered, and the order in which they are specified matters.  If your model is non-linear or contains layers with multiple inputs or outputs, a Sequential model wouldn't be the right choice!\n",
    "\n",
    "For any layer construction in Keras, you'll need to specify the input shape in advance. This is because in Keras, the shape of the weights is based on the shape of the inputs. The weights are only created when the model first sees some input data. Sequential models can be created by passing a list of layers to the Sequential constructor, like you will do in the next assignment.\n",
    "\n",
    "<a name='ex-1'></a>\n",
    "### Exercise 1 - happyModel\n",
    "\n",
    "Implement the `happyModel` function below to build the following model: `ZEROPAD2D -> CONV2D -> BATCHNORM -> RELU -> MAXPOOL -> FLATTEN -> DENSE`. Take help from [tf.keras.layers](https://www.tensorflow.org/api_docs/python/tf/keras/layers) \n",
    "\n",
    "Also, plug in the following parameters for all the steps:\n",
    "\n",
    " - [ZeroPadding2D](https://www.tensorflow.org/api_docs/python/tf/keras/layers/ZeroPadding2D): padding 3, input shape 64 x 64 x 3\n",
    " - [Conv2D](https://www.tensorflow.org/api_docs/python/tf/keras/layers/Conv2D): Use 32 7x7 filters, stride 1\n",
    " - [BatchNormalization](https://www.tensorflow.org/api_docs/python/tf/keras/layers/BatchNormalization): for axis 3\n",
    " - [ReLU](https://www.tensorflow.org/api_docs/python/tf/keras/layers/ReLU)\n",
    " - [MaxPool2D](https://www.tensorflow.org/api_docs/python/tf/keras/layers/MaxPool2D): Using default parameters\n",
    " - [Flatten](https://www.tensorflow.org/api_docs/python/tf/keras/layers/Flatten) the previous output.\n",
    " - Fully-connected ([Dense](https://www.tensorflow.org/api_docs/python/tf/keras/layers/Dense)) layer: Apply a fully connected layer with 1 neuron and a sigmoid activation. \n",
    " \n",
    " \n",
    " **Hint:**\n",
    " \n",
    " Use **tfl** as shorthand for **tensorflow.keras.layers**"
   ]
  },
  {
   "cell_type": "code",
   "execution_count": 4,
   "metadata": {
    "deletable": false,
    "nbgrader": {
     "cell_type": "code",
     "checksum": "95d28b191f257bdd5b70c7b8952559d5",
     "grade": false,
     "grade_id": "cell-0e56d3fc28b69aec",
     "locked": false,
     "schema_version": 3,
     "solution": true,
     "task": false
    }
   },
   "outputs": [],
   "source": [
    "# GRADED FUNCTION: happyModel\n",
    "\n",
    "\n",
    "def happyModel():\n",
    "    \"\"\"\n",
    "    Implements the forward propagation for the binary classification model:\n",
    "    ZEROPAD2D -> CONV2D -> BATCHNORM -> RELU -> MAXPOOL -> FLATTEN -> DENSE\n",
    "    \n",
    "    Note that for simplicity and grading purposes, you'll hard-code all the values\n",
    "    such as the stride and kernel (filter) sizes. \n",
    "    Normally, functions should take these values as function parameters.\n",
    "    \n",
    "    Arguments:\n",
    "    None\n",
    "\n",
    "    Returns:\n",
    "    model -- TF Keras model (object containing the information for the entire training process) \n",
    "    \"\"\"\n",
    "    #tf.keras.backend.floatx('float64')\n",
    "\n",
    "\n",
    "    model = tf.keras.Sequential([\n",
    "        # YOUR CODE STARTS HERE\n",
    "            ## ZeroPadding2D with padding 3, input shape of 64 x 64 x 3\n",
    "            tfl.ZeroPadding2D(padding=(3,3), input_shape=(64,64,3)),\n",
    "            ## Conv2D with 32 7x7 filters and stride of 1\n",
    "            tfl.Conv2D(32, (7,7), strides=(1, 1), name=\"Conv2D\"),\n",
    "            ## BatchNormalization for axis 3\n",
    "            tfl.BatchNormalization(axis=3, name=\"BatchNormalization\"),\n",
    "            ## ReLU\n",
    "            tfl.ReLU(),\n",
    "            ## Max Pooling 2D with default parameters\n",
    "            tfl.MaxPool2D(pool_size=(2, 2), strides=None, padding='valid', data_format=None, name=\"MaxPool\"),\n",
    "            ## Flatten layer\n",
    "            tfl.Flatten(name=\"Flatten\"),\n",
    "            ## Dense layer with 1 unit for output & 'sigmoid' activation\n",
    "            tfl.Dense(1, activation='sigmoid', name=\"Dense\")\n",
    "        \n",
    "            # YOUR CODE ENDS HERE\n",
    "        ])\n",
    "    \n",
    "    return model"
   ]
  },
  {
   "cell_type": "code",
   "execution_count": 5,
   "metadata": {
    "deletable": false,
    "editable": false,
    "nbgrader": {
     "cell_type": "code",
     "checksum": "8d3575c950e2e78149be2d05d671c80d",
     "grade": true,
     "grade_id": "cell-e3e1046e5c33d775",
     "locked": true,
     "points": 10,
     "schema_version": 3,
     "solution": false,
     "task": false
    }
   },
   "outputs": [
    {
     "name": "stdout",
     "output_type": "stream",
     "text": [
      "['ZeroPadding2D', (None, 70, 70, 3), 0, ((3, 3), (3, 3))]\n",
      "['Conv2D', (None, 64, 64, 32), 4736, 'valid', 'linear', 'GlorotUniform']\n",
      "['BatchNormalization', (None, 64, 64, 32), 128]\n",
      "['ReLU', (None, 64, 64, 32), 0]\n",
      "['MaxPooling2D', (None, 32, 32, 32), 0, (2, 2), (2, 2), 'valid']\n",
      "['Flatten', (None, 32768), 0]\n",
      "['Dense', (None, 1), 32769, 'sigmoid']\n",
      "\u001b[32mAll tests passed!\u001b[0m\n"
     ]
    }
   ],
   "source": [
    "happy_model = happyModel()\n",
    "# Print a summary for each layer\n",
    "for layer in summary(happy_model):\n",
    "    print(layer)\n",
    "    \n",
    "output = [['ZeroPadding2D', (None, 70, 70, 3), 0, ((3, 3), (3, 3))],\n",
    "            ['Conv2D', (None, 64, 64, 32), 4736, 'valid', 'linear', 'GlorotUniform'],\n",
    "            ['BatchNormalization', (None, 64, 64, 32), 128],\n",
    "            ['ReLU', (None, 64, 64, 32), 0],\n",
    "            ['MaxPooling2D', (None, 32, 32, 32), 0, (2, 2), (2, 2), 'valid'],\n",
    "            ['Flatten', (None, 32768), 0],\n",
    "            ['Dense', (None, 1), 32769, 'sigmoid']]\n",
    "    \n",
    "comparator(summary(happy_model), output)"
   ]
  },
  {
   "cell_type": "markdown",
   "metadata": {},
   "source": [
    "Now that your model is created, you can compile it for training with an optimizer and loss of your choice. When the string `accuracy` is specified as a metric, the type of accuracy used will be automatically converted based on the loss function used. This is one of the many optimizations built into TensorFlow that make your life easier! If you'd like to read more on how the compiler operates, check the docs [here](https://www.tensorflow.org/api_docs/python/tf/keras/Model#compile)."
   ]
  },
  {
   "cell_type": "code",
   "execution_count": 6,
   "metadata": {},
   "outputs": [],
   "source": [
    "happy_model.compile(optimizer='adam',\n",
    "                   loss='binary_crossentropy',\n",
    "                   metrics=['accuracy'])"
   ]
  },
  {
   "cell_type": "markdown",
   "metadata": {},
   "source": [
    "It's time to check your model's parameters with the `.summary()` method. This will display the types of layers you have, the shape of the outputs, and how many parameters are in each layer. "
   ]
  },
  {
   "cell_type": "code",
   "execution_count": 7,
   "metadata": {},
   "outputs": [
    {
     "name": "stdout",
     "output_type": "stream",
     "text": [
      "Model: \"sequential\"\n",
      "_________________________________________________________________\n",
      "Layer (type)                 Output Shape              Param #   \n",
      "=================================================================\n",
      "zero_padding2d (ZeroPadding2 (None, 70, 70, 3)         0         \n",
      "_________________________________________________________________\n",
      "Conv2D (Conv2D)              (None, 64, 64, 32)        4736      \n",
      "_________________________________________________________________\n",
      "BatchNormalization (BatchNor (None, 64, 64, 32)        128       \n",
      "_________________________________________________________________\n",
      "re_lu (ReLU)                 (None, 64, 64, 32)        0         \n",
      "_________________________________________________________________\n",
      "MaxPool (MaxPooling2D)       (None, 32, 32, 32)        0         \n",
      "_________________________________________________________________\n",
      "Flatten (Flatten)            (None, 32768)             0         \n",
      "_________________________________________________________________\n",
      "Dense (Dense)                (None, 1)                 32769     \n",
      "=================================================================\n",
      "Total params: 37,633\n",
      "Trainable params: 37,569\n",
      "Non-trainable params: 64\n",
      "_________________________________________________________________\n"
     ]
    }
   ],
   "source": [
    "happy_model.summary()"
   ]
  },
  {
   "cell_type": "markdown",
   "metadata": {},
   "source": [
    "<a name='3-2'></a>\n",
    "### 3.2 - Train and Evaluate the Model\n",
    "\n",
    "After creating the model, compiling it with your choice of optimizer and loss function, and doing a sanity check on its contents, you are now ready to build! \n",
    "\n",
    "Simply call `.fit()` to train. That's it! No need for mini-batching, saving, or complex backpropagation computations. That's all been done for you, as you're using a TensorFlow dataset with the batches specified already. You do have the option to specify epoch number or minibatch size if you like (for example, in the case of an un-batched dataset)."
   ]
  },
  {
   "cell_type": "code",
   "execution_count": 8,
   "metadata": {},
   "outputs": [
    {
     "name": "stdout",
     "output_type": "stream",
     "text": [
      "Epoch 1/10\n",
      "38/38 [==============================] - 4s 95ms/step - loss: 1.1401 - accuracy: 0.7433\n",
      "Epoch 2/10\n",
      "38/38 [==============================] - 3s 87ms/step - loss: 0.1703 - accuracy: 0.9250\n",
      "Epoch 3/10\n",
      "38/38 [==============================] - 3s 87ms/step - loss: 0.1609 - accuracy: 0.9400\n",
      "Epoch 4/10\n",
      "38/38 [==============================] - 3s 87ms/step - loss: 0.0993 - accuracy: 0.9683\n",
      "Epoch 5/10\n",
      "38/38 [==============================] - 3s 87ms/step - loss: 0.1013 - accuracy: 0.9683\n",
      "Epoch 6/10\n",
      "38/38 [==============================] - 3s 89ms/step - loss: 0.1152 - accuracy: 0.9617\n",
      "Epoch 7/10\n",
      "38/38 [==============================] - 3s 85ms/step - loss: 0.1786 - accuracy: 0.9317\n",
      "Epoch 8/10\n",
      "38/38 [==============================] - 3s 87ms/step - loss: 0.0581 - accuracy: 0.9783\n",
      "Epoch 9/10\n",
      "38/38 [==============================] - 3s 89ms/step - loss: 0.0564 - accuracy: 0.9817\n",
      "Epoch 10/10\n",
      "38/38 [==============================] - 3s 89ms/step - loss: 0.0752 - accuracy: 0.9683\n"
     ]
    },
    {
     "data": {
      "text/plain": [
       "<tensorflow.python.keras.callbacks.History at 0x7f5fe0105290>"
      ]
     },
     "execution_count": 8,
     "metadata": {},
     "output_type": "execute_result"
    }
   ],
   "source": [
    "happy_model.fit(X_train, Y_train, epochs=10, batch_size=16)"
   ]
  },
  {
   "cell_type": "markdown",
   "metadata": {},
   "source": [
    "After that completes, just use `.evaluate()` to evaluate against your test set. This function will print the value of the loss function and the performance metrics specified during the compilation of the model. In this case, the `binary_crossentropy` and the `accuracy` respectively."
   ]
  },
  {
   "cell_type": "code",
   "execution_count": 9,
   "metadata": {},
   "outputs": [
    {
     "name": "stdout",
     "output_type": "stream",
     "text": [
      "5/5 [==============================] - 0s 37ms/step - loss: 0.2205 - accuracy: 0.9200\n"
     ]
    },
    {
     "data": {
      "text/plain": [
       "[0.22054819762706757, 0.9200000166893005]"
      ]
     },
     "execution_count": 9,
     "metadata": {},
     "output_type": "execute_result"
    }
   ],
   "source": [
    "happy_model.evaluate(X_test, Y_test)"
   ]
  },
  {
   "cell_type": "markdown",
   "metadata": {},
   "source": [
    "Easy, right? But what if you need to build a model with shared layers, branches, or multiple inputs and outputs? This is where Sequential, with its beautifully simple yet limited functionality, won't be able to help you. \n",
    "\n",
    "Next up: Enter the Functional API, your slightly more complex, highly flexible friend.  "
   ]
  },
  {
   "cell_type": "markdown",
   "metadata": {},
   "source": [
    "<a name='4'></a>\n",
    "## 4 - The Functional API"
   ]
  },
  {
   "cell_type": "markdown",
   "metadata": {},
   "source": [
    "Welcome to the second half of the assignment, where you'll use Keras' flexible [Functional API](https://www.tensorflow.org/guide/keras/functional) to build a ConvNet that can differentiate between 6 sign language digits. \n",
    "\n",
    "The Functional API can handle models with non-linear topology, shared layers, as well as layers with multiple inputs or outputs. Imagine that, where the Sequential API requires the model to move in a linear fashion through its layers, the Functional API allows much more flexibility. Where Sequential is a straight line, a Functional model is a graph, where the nodes of the layers can connect in many more ways than one. \n",
    "\n",
    "In the visual example below, the one possible direction of the movement Sequential model is shown in contrast to a skip connection, which is just one of the many ways a Functional model can be constructed. A skip connection, as you might have guessed, skips some layer in the network and feeds the output to a later layer in the network. Don't worry, you'll be spending more time with skip connections very soon! "
   ]
  },
  {
   "cell_type": "markdown",
   "metadata": {},
   "source": [
    "<img src=\"images/seq_vs_func.png\" style=\"width:350px;height:200px;\">"
   ]
  },
  {
   "cell_type": "markdown",
   "metadata": {},
   "source": [
    "<a name='4-1'></a>\n",
    "### 4.1 - Load the SIGNS Dataset\n",
    "\n",
    "As a reminder, the SIGNS dataset is a collection of 6 signs representing numbers from 0 to 5."
   ]
  },
  {
   "cell_type": "code",
   "execution_count": 10,
   "metadata": {},
   "outputs": [],
   "source": [
    "# Loading the data (signs)\n",
    "X_train_orig, Y_train_orig, X_test_orig, Y_test_orig, classes = load_signs_dataset()"
   ]
  },
  {
   "cell_type": "markdown",
   "metadata": {},
   "source": [
    "<img src=\"images/SIGNS.png\" style=\"width:800px;height:300px;\">\n",
    "\n",
    "The next cell will show you an example of a labelled image in the dataset. Feel free to change the value of `index` below and re-run to see different examples. "
   ]
  },
  {
   "cell_type": "code",
   "execution_count": 11,
   "metadata": {},
   "outputs": [
    {
     "name": "stdout",
     "output_type": "stream",
     "text": [
      "y = 4\n"
     ]
    },
    {
     "data": {
      "image/png": "[encoded data removed]",
      "text/plain": [
       "<Figure size 432x288 with 1 Axes>"
      ]
     },
     "metadata": {
      "needs_background": "light"
     },
     "output_type": "display_data"
    }
   ],
   "source": [
    "# Example of an image from the dataset\n",
    "index = 9\n",
    "plt.imshow(X_train_orig[index])\n",
    "print (\"y = \" + str(np.squeeze(Y_train_orig[:, index])))"
   ]
  },
  {
   "cell_type": "markdown",
   "metadata": {},
   "source": [
    "<a name='4-2'></a>\n",
    "### 4.2 - Split the Data into Train/Test Sets\n",
    "\n",
    "In Course 2, you built a fully-connected network for this dataset. But since this is an image dataset, it is more natural to apply a ConvNet to it.\n",
    "\n",
    "To get started, let's examine the shapes of your data. "
   ]
  },
  {
   "cell_type": "code",
   "execution_count": 12,
   "metadata": {},
   "outputs": [
    {
     "name": "stdout",
     "output_type": "stream",
     "text": [
      "number of training examples = 1080\n",
      "number of test examples = 120\n",
      "X_train shape: (1080, 64, 64, 3)\n",
      "Y_train shape: (1080, 6)\n",
      "X_test shape: (120, 64, 64, 3)\n",
      "Y_test shape: (120, 6)\n"
     ]
    }
   ],
   "source": [
    "X_train = X_train_orig/255.\n",
    "X_test = X_test_orig/255.\n",
    "Y_train = convert_to_one_hot(Y_train_orig, 6).T\n",
    "Y_test = convert_to_one_hot(Y_test_orig, 6).T\n",
    "print (\"number of training examples = \" + str(X_train.shape[0]))\n",
    "print (\"number of test examples = \" + str(X_test.shape[0]))\n",
    "print (\"X_train shape: \" + str(X_train.shape))\n",
    "print (\"Y_train shape: \" + str(Y_train.shape))\n",
    "print (\"X_test shape: \" + str(X_test.shape))\n",
    "print (\"Y_test shape: \" + str(Y_test.shape))"
   ]
  },
  {
   "cell_type": "markdown",
   "metadata": {},
   "source": [
    "<a name='4-3'></a>\n",
    "### 4.3 - Forward Propagation\n",
    "\n",
    "In TensorFlow, there are built-in functions that implement the convolution steps for you. By now, you should be familiar with how TensorFlow builds computational graphs. In the [Functional API](https://www.tensorflow.org/guide/keras/functional), you create a graph of layers. This is what allows such great flexibility.\n",
    "\n",
    "However, the following model could also be defined using the Sequential API since the information flow is on a single line. But don't deviate. What we want you to learn is to use the functional API.\n",
    "\n",
    "Begin building your graph of layers by creating an input node that functions as a callable object:\n",
    "\n",
    "- **input_img = tf.keras.Input(shape=input_shape):** \n",
    "\n",
    "Then, create a new node in the graph of layers by calling a layer on the `input_img` object: \n",
    "\n",
    "- **tf.keras.layers.Conv2D(filters= ... , kernel_size= ... , padding='same')(input_img):** Read the full documentation on [Conv2D](https://www.tensorflow.org/api_docs/python/tf/keras/layers/Conv2D).\n",
    "\n",
    "- **tf.keras.layers.MaxPool2D(pool_size=(f, f), strides=(s, s), padding='same'):** `MaxPool2D()` downsamples your input using a window of size (f, f) and strides of size (s, s) to carry out max pooling over each window.  For max pooling, you usually operate on a single example at a time and a single channel at a time. Read the full documentation on [MaxPool2D](https://www.tensorflow.org/api_docs/python/tf/keras/layers/MaxPool2D).\n",
    "\n",
    "- **tf.keras.layers.ReLU():** computes the elementwise ReLU of Z (which can be any shape). You can read the full documentation on [ReLU](https://www.tensorflow.org/api_docs/python/tf/keras/layers/ReLU).\n",
    "\n",
    "- **tf.keras.layers.Flatten()**: given a tensor \"P\", this function takes each training (or test) example in the batch and flattens it into a 1D vector.  \n",
    "\n",
    "    * If a tensor P has the shape (batch_size,h,w,c), it returns a flattened tensor with shape (batch_size, k), where $k=h \\times w \\times c$.  \"k\" equals the product of all the dimension sizes other than the first dimension.\n",
    "    \n",
    "    * For example, given a tensor with dimensions [100, 2, 3, 4], it flattens the tensor to be of shape [100, 24], where 24 = 2 * 3 * 4.  You can read the full documentation on [Flatten](https://www.tensorflow.org/api_docs/python/tf/keras/layers/Flatten).\n",
    "\n",
    "- **tf.keras.layers.Dense(units= ... , activation='softmax')(F):** given the flattened input F, it returns the output computed using a fully connected layer. You can read the full documentation on [Dense](https://www.tensorflow.org/api_docs/python/tf/keras/layers/Dense).\n",
    "\n",
    "In the last function above (`tf.keras.layers.Dense()`), the fully connected layer automatically initializes weights in the graph and keeps on training them as you train the model. Hence, you did not need to initialize those weights when initializing the parameters.\n",
    "\n",
    "Lastly, before creating the model, you'll need to define the output using the last of the function's compositions (in this example, a Dense layer): \n",
    "\n",
    "- **outputs = tf.keras.layers.Dense(units=6, activation='softmax')(F)**\n",
    "\n",
    "\n",
    "#### Window, kernel, filter, pool\n",
    "\n",
    "The words \"kernel\" and \"filter\" are used to refer to the same thing. The word \"filter\" accounts for the amount of \"kernels\" that will be used in a single convolution layer. \"Pool\" is the name of the operation that takes the max or average value of the kernels. \n",
    "\n",
    "This is why the parameter `pool_size` refers to `kernel_size`, and you use `(f,f)` to refer to the filter size. \n",
    "\n",
    "Pool size and kernel size refer to the same thing in different objects - They refer to the shape of the window where the operation takes place. "
   ]
  },
  {
   "cell_type": "markdown",
   "metadata": {},
   "source": [
    "<a name='ex-2'></a>\n",
    "### Exercise 2 - convolutional_model\n",
    "\n",
    "Implement the `convolutional_model` function below to build the following model: `CONV2D -> RELU -> MAXPOOL -> CONV2D -> RELU -> MAXPOOL -> FLATTEN -> DENSE`. Use the functions above! \n",
    "\n",
    "Also, plug in the following parameters for all the steps:\n",
    "\n",
    " - [Conv2D](https://www.tensorflow.org/api_docs/python/tf/keras/layers/Conv2D): Use 8 4 by 4 filters, stride 1, padding is \"SAME\"\n",
    " - [ReLU](https://www.tensorflow.org/api_docs/python/tf/keras/layers/ReLU)\n",
    " - [MaxPool2D](https://www.tensorflow.org/api_docs/python/tf/keras/layers/MaxPool2D): Use an 8 by 8 filter size and an 8 by 8 stride, padding is \"SAME\"\n",
    " - **Conv2D**: Use 16 2 by 2 filters, stride 1, padding is \"SAME\"\n",
    " - **ReLU**\n",
    " - **MaxPool2D**: Use a 4 by 4 filter size and a 4 by 4 stride, padding is \"SAME\"\n",
    " - [Flatten](https://www.tensorflow.org/api_docs/python/tf/keras/layers/Flatten) the previous output.\n",
    " - Fully-connected ([Dense](https://www.tensorflow.org/api_docs/python/tf/keras/layers/Dense)) layer: Apply a fully connected layer with 6 neurons and a softmax activation. "
   ]
  },
  {
   "cell_type": "code",
   "execution_count": 13,
   "metadata": {
    "deletable": false,
    "nbgrader": {
     "cell_type": "code",
     "checksum": "f58643806aa8380c96225fc8b4c5e7aa",
     "grade": false,
     "grade_id": "cell-dac51744a9e03f51",
     "locked": false,
     "schema_version": 3,
     "solution": true,
     "task": false
    }
   },
   "outputs": [],
   "source": [
    "# GRADED FUNCTION: convolutional_model\n",
    "\n",
    "def convolutional_model(input_shape):\n",
    "    \"\"\"\n",
    "    Implements the forward propagation for the model:\n",
    "    CONV2D -> RELU -> MAXPOOL -> CONV2D -> RELU -> MAXPOOL -> FLATTEN -> DENSE\n",
    "    \n",
    "    Note that for simplicity and grading purposes, you'll hard-code some values\n",
    "    such as the stride and kernel (filter) sizes. \n",
    "    Normally, functions should take these values as function parameters.\n",
    "    \n",
    "    Arguments:\n",
    "    input_img -- input dataset, of shape (input_shape)\n",
    "\n",
    "    Returns:\n",
    "    model -- TF Keras model (object containing the information for the entire training process) \n",
    "    \"\"\"\n",
    "\n",
    "    input_img = tf.keras.Input(shape=input_shape)\n",
    "    ## CONV2D: 8 filters 4x4, stride of 1, padding 'SAME'\n",
    "    Z1 = tfl.Conv2D(filters= 8, kernel_size= (4,4), padding='same')(input_img)\n",
    "    ## RELU\n",
    "    A1 = tfl.ReLU()(Z1)\n",
    "    ## MAXPOOL: window 8x8, stride 8, padding 'SAME'\n",
    "    P1 = tfl.MaxPool2D(pool_size=(8, 8), strides=(8, 8), padding='same')(A1)\n",
    "    ## CONV2D: 16 filters 2x2, stride 1, padding 'SAME'\n",
    "    Z2 = tfl.Conv2D(filters= 16, kernel_size= (2,2), padding='same')(P1)\n",
    "    ## RELU\n",
    "    A2 = tfl.ReLU()(Z2)\n",
    "    ## MAXPOOL: window 4x4, stride 4, padding 'SAME'\n",
    "    P2 = tfl.MaxPool2D(pool_size=(4,4), strides=(4,4), padding=\"same\")(A2)\n",
    "    ## FLATTEN\n",
    "    F = tfl.Flatten()(P2)\n",
    "    ## Dense layer\n",
    "    ## 6 neurons in output layer. Hint: one of the arguments should be \"activation='softmax'\" \n",
    "    outputs = tfl.Dense(units= 6 , activation='softmax')(F)\n",
    "    # YOUR CODE STARTS HERE\n",
    "    \n",
    "    \n",
    "    # YOUR CODE ENDS HERE\n",
    "    model = tf.keras.Model(inputs=input_img, outputs=outputs)\n",
    "    return model"
   ]
  },
  {
   "cell_type": "code",
   "execution_count": 14,
   "metadata": {
    "deletable": false,
    "editable": false,
    "nbgrader": {
     "cell_type": "code",
     "checksum": "483d626949930a0b0ef20997e7c6ba72",
     "grade": true,
     "grade_id": "cell-45d22e92042174c9",
     "locked": true,
     "points": 10,
     "schema_version": 3,
     "solution": false,
     "task": false
    }
   },
   "outputs": [
    {
     "name": "stdout",
     "output_type": "stream",
     "text": [
      "Model: \"functional_1\"\n",
      "_________________________________________________________________\n",
      "Layer (type)                 Output Shape              Param #   \n",
      "=================================================================\n",
      "input_1 (InputLayer)         [(None, 64, 64, 3)]       0         \n",
      "_________________________________________________________________\n",
      "conv2d (Conv2D)              (None, 64, 64, 8)         392       \n",
      "_________________________________________________________________\n",
      "re_lu_1 (ReLU)               (None, 64, 64, 8)         0         \n",
      "_________________________________________________________________\n",
      "max_pooling2d (MaxPooling2D) (None, 8, 8, 8)           0         \n",
      "_________________________________________________________________\n",
      "conv2d_1 (Conv2D)            (None, 8, 8, 16)          528       \n",
      "_________________________________________________________________\n",
      "re_lu_2 (ReLU)               (None, 8, 8, 16)          0         \n",
      "_________________________________________________________________\n",
      "max_pooling2d_1 (MaxPooling2 (None, 2, 2, 16)          0         \n",
      "_________________________________________________________________\n",
      "flatten (Flatten)            (None, 64)                0         \n",
      "_________________________________________________________________\n",
      "dense (Dense)                (None, 6)                 390       \n",
      "=================================================================\n",
      "Total params: 1,310\n",
      "Trainable params: 1,310\n",
      "Non-trainable params: 0\n",
      "_________________________________________________________________\n",
      "\u001b[32mAll tests passed!\u001b[0m\n"
     ]
    }
   ],
   "source": [
    "conv_model = convolutional_model((64, 64, 3))\n",
    "conv_model.compile(optimizer='adam',\n",
    "                  loss='categorical_crossentropy',\n",
    "                  metrics=['accuracy'])\n",
    "conv_model.summary()\n",
    "    \n",
    "output = [['InputLayer', [(None, 64, 64, 3)], 0],\n",
    "        ['Conv2D', (None, 64, 64, 8), 392, 'same', 'linear', 'GlorotUniform'],\n",
    "        ['ReLU', (None, 64, 64, 8), 0],\n",
    "        ['MaxPooling2D', (None, 8, 8, 8), 0, (8, 8), (8, 8), 'same'],\n",
    "        ['Conv2D', (None, 8, 8, 16), 528, 'same', 'linear', 'GlorotUniform'],\n",
    "        ['ReLU', (None, 8, 8, 16), 0],\n",
    "        ['MaxPooling2D', (None, 2, 2, 16), 0, (4, 4), (4, 4), 'same'],\n",
    "        ['Flatten', (None, 64), 0],\n",
    "        ['Dense', (None, 6), 390, 'softmax']]\n",
    "    \n",
    "comparator(summary(conv_model), output)"
   ]
  },
  {
   "cell_type": "markdown",
   "metadata": {},
   "source": [
    "Both the Sequential and Functional APIs return a TF Keras model object. The only difference is how inputs are handled inside the object model! "
   ]
  },
  {
   "cell_type": "markdown",
   "metadata": {},
   "source": [
    "<a name='4-4'></a>\n",
    "### 4.4 - Train the Model"
   ]
  },
  {
   "cell_type": "code",
   "execution_count": 15,
   "metadata": {},
   "outputs": [
    {
     "name": "stdout",
     "output_type": "stream",
     "text": [
      "Epoch 1/100\n",
      "17/17 [==============================] - 2s 101ms/step - loss: 1.7953 - accuracy: 0.1861 - val_loss: 1.7831 - val_accuracy: 0.2167\n",
      "Epoch 2/100\n",
      "17/17 [==============================] - 2s 95ms/step - loss: 1.7809 - accuracy: 0.2065 - val_loss: 1.7745 - val_accuracy: 0.3000\n",
      "Epoch 3/100\n",
      "17/17 [==============================] - 2s 94ms/step - loss: 1.7712 - accuracy: 0.3194 - val_loss: 1.7663 - val_accuracy: 0.4000\n",
      "Epoch 4/100\n",
      "17/17 [==============================] - 2s 95ms/step - loss: 1.7622 - accuracy: 0.3454 - val_loss: 1.7572 - val_accuracy: 0.4333\n",
      "Epoch 5/100\n",
      "17/17 [==============================] - 2s 94ms/step - loss: 1.7515 - accuracy: 0.3694 - val_loss: 1.7458 - val_accuracy: 0.4083\n",
      "Epoch 6/100\n",
      "17/17 [==============================] - 2s 100ms/step - loss: 1.7378 - accuracy: 0.4148 - val_loss: 1.7315 - val_accuracy: 0.4500\n",
      "Epoch 7/100\n",
      "17/17 [==============================] - 2s 99ms/step - loss: 1.7204 - accuracy: 0.4352 - val_loss: 1.7118 - val_accuracy: 0.4750\n",
      "Epoch 8/100\n",
      "17/17 [==============================] - 2s 95ms/step - loss: 1.6983 - accuracy: 0.4528 - val_loss: 1.6908 - val_accuracy: 0.5167\n",
      "Epoch 9/100\n",
      "17/17 [==============================] - 2s 95ms/step - loss: 1.6718 - accuracy: 0.4519 - val_loss: 1.6645 - val_accuracy: 0.5083\n",
      "Epoch 10/100\n",
      "17/17 [==============================] - 2s 95ms/step - loss: 1.6402 - accuracy: 0.4556 - val_loss: 1.6342 - val_accuracy: 0.4583\n",
      "Epoch 11/100\n",
      "17/17 [==============================] - 2s 94ms/step - loss: 1.6031 - accuracy: 0.4648 - val_loss: 1.6000 - val_accuracy: 0.5000\n",
      "Epoch 12/100\n",
      "17/17 [==============================] - 2s 99ms/step - loss: 1.5592 - accuracy: 0.4833 - val_loss: 1.5605 - val_accuracy: 0.4500\n",
      "Epoch 13/100\n",
      "17/17 [==============================] - 2s 95ms/step - loss: 1.5070 - accuracy: 0.4991 - val_loss: 1.5224 - val_accuracy: 0.4250\n",
      "Epoch 14/100\n",
      "17/17 [==============================] - 2s 95ms/step - loss: 1.4507 - accuracy: 0.5157 - val_loss: 1.4691 - val_accuracy: 0.4417\n",
      "Epoch 15/100\n",
      "17/17 [==============================] - 2s 95ms/step - loss: 1.3892 - accuracy: 0.5426 - val_loss: 1.4144 - val_accuracy: 0.4500\n",
      "Epoch 16/100\n",
      "17/17 [==============================] - 2s 95ms/step - loss: 1.3335 - accuracy: 0.5556 - val_loss: 1.3610 - val_accuracy: 0.4750\n",
      "Epoch 17/100\n",
      "17/17 [==============================] - 2s 95ms/step - loss: 1.2804 - accuracy: 0.5722 - val_loss: 1.3157 - val_accuracy: 0.5083\n",
      "Epoch 18/100\n",
      "17/17 [==============================] - 2s 95ms/step - loss: 1.2329 - accuracy: 0.5815 - val_loss: 1.2715 - val_accuracy: 0.5667\n",
      "Epoch 19/100\n",
      "17/17 [==============================] - 2s 96ms/step - loss: 1.1893 - accuracy: 0.6019 - val_loss: 1.2311 - val_accuracy: 0.5417\n",
      "Epoch 20/100\n",
      "17/17 [==============================] - 2s 95ms/step - loss: 1.1493 - accuracy: 0.6139 - val_loss: 1.1926 - val_accuracy: 0.5750\n",
      "Epoch 21/100\n",
      "17/17 [==============================] - 2s 95ms/step - loss: 1.1127 - accuracy: 0.6296 - val_loss: 1.1562 - val_accuracy: 0.5833\n",
      "Epoch 22/100\n",
      "17/17 [==============================] - 2s 94ms/step - loss: 1.0767 - accuracy: 0.6463 - val_loss: 1.1192 - val_accuracy: 0.6083\n",
      "Epoch 23/100\n",
      "17/17 [==============================] - 2s 94ms/step - loss: 1.0438 - accuracy: 0.6537 - val_loss: 1.0841 - val_accuracy: 0.6083\n",
      "Epoch 24/100\n",
      "17/17 [==============================] - 2s 99ms/step - loss: 1.0131 - accuracy: 0.6657 - val_loss: 1.0510 - val_accuracy: 0.6500\n",
      "Epoch 25/100\n",
      "17/17 [==============================] - 2s 94ms/step - loss: 0.9849 - accuracy: 0.6750 - val_loss: 1.0197 - val_accuracy: 0.6667\n",
      "Epoch 26/100\n",
      "17/17 [==============================] - 2s 95ms/step - loss: 0.9581 - accuracy: 0.6815 - val_loss: 0.9914 - val_accuracy: 0.6917\n",
      "Epoch 27/100\n",
      "17/17 [==============================] - 2s 95ms/step - loss: 0.9322 - accuracy: 0.6954 - val_loss: 0.9650 - val_accuracy: 0.6917\n",
      "Epoch 28/100\n",
      "17/17 [==============================] - 2s 94ms/step - loss: 0.9072 - accuracy: 0.7046 - val_loss: 0.9414 - val_accuracy: 0.7083\n",
      "Epoch 29/100\n",
      "17/17 [==============================] - 2s 95ms/step - loss: 0.8849 - accuracy: 0.7120 - val_loss: 0.9196 - val_accuracy: 0.7083\n",
      "Epoch 30/100\n",
      "17/17 [==============================] - 2s 95ms/step - loss: 0.8644 - accuracy: 0.7204 - val_loss: 0.8986 - val_accuracy: 0.7000\n",
      "Epoch 31/100\n",
      "17/17 [==============================] - 2s 95ms/step - loss: 0.8446 - accuracy: 0.7315 - val_loss: 0.8793 - val_accuracy: 0.7167\n",
      "Epoch 32/100\n",
      "17/17 [==============================] - 2s 94ms/step - loss: 0.8257 - accuracy: 0.7343 - val_loss: 0.8614 - val_accuracy: 0.7333\n",
      "Epoch 33/100\n",
      "17/17 [==============================] - 2s 95ms/step - loss: 0.8086 - accuracy: 0.7343 - val_loss: 0.8431 - val_accuracy: 0.7417\n",
      "Epoch 34/100\n",
      "17/17 [==============================] - 2s 94ms/step - loss: 0.7918 - accuracy: 0.7435 - val_loss: 0.8260 - val_accuracy: 0.7333\n",
      "Epoch 35/100\n",
      "17/17 [==============================] - 2s 94ms/step - loss: 0.7758 - accuracy: 0.7463 - val_loss: 0.8098 - val_accuracy: 0.7250\n",
      "Epoch 36/100\n",
      "17/17 [==============================] - 2s 94ms/step - loss: 0.7603 - accuracy: 0.7602 - val_loss: 0.7944 - val_accuracy: 0.7333\n",
      "Epoch 37/100\n",
      "17/17 [==============================] - 2s 95ms/step - loss: 0.7456 - accuracy: 0.7639 - val_loss: 0.7794 - val_accuracy: 0.7500\n",
      "Epoch 38/100\n",
      "17/17 [==============================] - 2s 94ms/step - loss: 0.7314 - accuracy: 0.7667 - val_loss: 0.7643 - val_accuracy: 0.7500\n",
      "Epoch 39/100\n",
      "17/17 [==============================] - 2s 94ms/step - loss: 0.7176 - accuracy: 0.7694 - val_loss: 0.7499 - val_accuracy: 0.7500\n",
      "Epoch 40/100\n",
      "17/17 [==============================] - 2s 94ms/step - loss: 0.7042 - accuracy: 0.7750 - val_loss: 0.7360 - val_accuracy: 0.7500\n",
      "Epoch 41/100\n",
      "17/17 [==============================] - 2s 96ms/step - loss: 0.6915 - accuracy: 0.7778 - val_loss: 0.7233 - val_accuracy: 0.7500\n",
      "Epoch 42/100\n",
      "17/17 [==============================] - 2s 100ms/step - loss: 0.6793 - accuracy: 0.7843 - val_loss: 0.7112 - val_accuracy: 0.7583\n",
      "Epoch 43/100\n",
      "17/17 [==============================] - 2s 94ms/step - loss: 0.6677 - accuracy: 0.7889 - val_loss: 0.7004 - val_accuracy: 0.7667\n",
      "Epoch 44/100\n",
      "17/17 [==============================] - 2s 89ms/step - loss: 0.6567 - accuracy: 0.7917 - val_loss: 0.6885 - val_accuracy: 0.7917\n",
      "Epoch 45/100\n",
      "17/17 [==============================] - 2s 95ms/step - loss: 0.6454 - accuracy: 0.7954 - val_loss: 0.6789 - val_accuracy: 0.7917\n",
      "Epoch 46/100\n",
      "17/17 [==============================] - 2s 95ms/step - loss: 0.6355 - accuracy: 0.8000 - val_loss: 0.6692 - val_accuracy: 0.7917\n",
      "Epoch 47/100\n",
      "17/17 [==============================] - 2s 95ms/step - loss: 0.6250 - accuracy: 0.8056 - val_loss: 0.6594 - val_accuracy: 0.7917\n",
      "Epoch 48/100\n",
      "17/17 [==============================] - 2s 95ms/step - loss: 0.6152 - accuracy: 0.8102 - val_loss: 0.6503 - val_accuracy: 0.7917\n",
      "Epoch 49/100\n",
      "17/17 [==============================] - 2s 95ms/step - loss: 0.6056 - accuracy: 0.8139 - val_loss: 0.6424 - val_accuracy: 0.7917\n",
      "Epoch 50/100\n",
      "17/17 [==============================] - 2s 96ms/step - loss: 0.5966 - accuracy: 0.8148 - val_loss: 0.6347 - val_accuracy: 0.7917\n",
      "Epoch 51/100\n",
      "17/17 [==============================] - 2s 100ms/step - loss: 0.5873 - accuracy: 0.8194 - val_loss: 0.6270 - val_accuracy: 0.7917\n",
      "Epoch 52/100\n",
      "17/17 [==============================] - 2s 95ms/step - loss: 0.5786 - accuracy: 0.8213 - val_loss: 0.6201 - val_accuracy: 0.8000\n",
      "Epoch 53/100\n",
      "17/17 [==============================] - 2s 95ms/step - loss: 0.5704 - accuracy: 0.8231 - val_loss: 0.6131 - val_accuracy: 0.8000\n",
      "Epoch 54/100\n",
      "17/17 [==============================] - 2s 95ms/step - loss: 0.5618 - accuracy: 0.8222 - val_loss: 0.6061 - val_accuracy: 0.8000\n",
      "Epoch 55/100\n",
      "17/17 [==============================] - 2s 95ms/step - loss: 0.5536 - accuracy: 0.8259 - val_loss: 0.5992 - val_accuracy: 0.8000\n",
      "Epoch 56/100\n",
      "17/17 [==============================] - 2s 95ms/step - loss: 0.5455 - accuracy: 0.8269 - val_loss: 0.5937 - val_accuracy: 0.8000\n",
      "Epoch 57/100\n",
      "17/17 [==============================] - 2s 95ms/step - loss: 0.5379 - accuracy: 0.8259 - val_loss: 0.5881 - val_accuracy: 0.8000\n",
      "Epoch 58/100\n",
      "17/17 [==============================] - 2s 90ms/step - loss: 0.5303 - accuracy: 0.8296 - val_loss: 0.5823 - val_accuracy: 0.8000\n",
      "Epoch 59/100\n",
      "17/17 [==============================] - 2s 94ms/step - loss: 0.5229 - accuracy: 0.8306 - val_loss: 0.5769 - val_accuracy: 0.8000\n",
      "Epoch 60/100\n",
      "17/17 [==============================] - 2s 94ms/step - loss: 0.5160 - accuracy: 0.8324 - val_loss: 0.5714 - val_accuracy: 0.7917\n",
      "Epoch 61/100\n",
      "17/17 [==============================] - 2s 98ms/step - loss: 0.5088 - accuracy: 0.8343 - val_loss: 0.5661 - val_accuracy: 0.8000\n",
      "Epoch 62/100\n",
      "17/17 [==============================] - 2s 95ms/step - loss: 0.5019 - accuracy: 0.8370 - val_loss: 0.5609 - val_accuracy: 0.8000\n",
      "Epoch 63/100\n",
      "17/17 [==============================] - 2s 94ms/step - loss: 0.4955 - accuracy: 0.8370 - val_loss: 0.5560 - val_accuracy: 0.8000\n",
      "Epoch 64/100\n",
      "17/17 [==============================] - 2s 95ms/step - loss: 0.4889 - accuracy: 0.8380 - val_loss: 0.5505 - val_accuracy: 0.8167\n",
      "Epoch 65/100\n",
      "17/17 [==============================] - 2s 94ms/step - loss: 0.4822 - accuracy: 0.8398 - val_loss: 0.5460 - val_accuracy: 0.8250\n",
      "Epoch 66/100\n",
      "17/17 [==============================] - 2s 94ms/step - loss: 0.4761 - accuracy: 0.8398 - val_loss: 0.5409 - val_accuracy: 0.8333\n",
      "Epoch 67/100\n",
      "17/17 [==============================] - 2s 94ms/step - loss: 0.4700 - accuracy: 0.8426 - val_loss: 0.5361 - val_accuracy: 0.8333\n",
      "Epoch 68/100\n",
      "17/17 [==============================] - 2s 95ms/step - loss: 0.4637 - accuracy: 0.8454 - val_loss: 0.5311 - val_accuracy: 0.8333\n",
      "Epoch 69/100\n",
      "17/17 [==============================] - 2s 94ms/step - loss: 0.4577 - accuracy: 0.8491 - val_loss: 0.5266 - val_accuracy: 0.8333\n",
      "Epoch 70/100\n",
      "17/17 [==============================] - 2s 95ms/step - loss: 0.4519 - accuracy: 0.8500 - val_loss: 0.5214 - val_accuracy: 0.8500\n",
      "Epoch 71/100\n",
      "17/17 [==============================] - 2s 94ms/step - loss: 0.4462 - accuracy: 0.8528 - val_loss: 0.5173 - val_accuracy: 0.8500\n",
      "Epoch 72/100\n",
      "17/17 [==============================] - 2s 94ms/step - loss: 0.4405 - accuracy: 0.8556 - val_loss: 0.5124 - val_accuracy: 0.8500\n",
      "Epoch 73/100\n",
      "17/17 [==============================] - 2s 95ms/step - loss: 0.4348 - accuracy: 0.8556 - val_loss: 0.5077 - val_accuracy: 0.8500\n",
      "Epoch 74/100\n",
      "17/17 [==============================] - 2s 95ms/step - loss: 0.4294 - accuracy: 0.8556 - val_loss: 0.5040 - val_accuracy: 0.8500\n",
      "Epoch 75/100\n",
      "17/17 [==============================] - 2s 96ms/step - loss: 0.4240 - accuracy: 0.8565 - val_loss: 0.4998 - val_accuracy: 0.8583\n",
      "Epoch 76/100\n",
      "17/17 [==============================] - 2s 95ms/step - loss: 0.4184 - accuracy: 0.8583 - val_loss: 0.4960 - val_accuracy: 0.8583\n",
      "Epoch 77/100\n",
      "17/17 [==============================] - 2s 95ms/step - loss: 0.4130 - accuracy: 0.8611 - val_loss: 0.4928 - val_accuracy: 0.8583\n",
      "Epoch 78/100\n",
      "17/17 [==============================] - 2s 95ms/step - loss: 0.4079 - accuracy: 0.8620 - val_loss: 0.4885 - val_accuracy: 0.8583\n",
      "Epoch 79/100\n",
      "17/17 [==============================] - 2s 100ms/step - loss: 0.4030 - accuracy: 0.8639 - val_loss: 0.4845 - val_accuracy: 0.8583\n",
      "Epoch 80/100\n",
      "17/17 [==============================] - 2s 94ms/step - loss: 0.3982 - accuracy: 0.8648 - val_loss: 0.4811 - val_accuracy: 0.8583\n",
      "Epoch 81/100\n",
      "17/17 [==============================] - 2s 94ms/step - loss: 0.3935 - accuracy: 0.8685 - val_loss: 0.4778 - val_accuracy: 0.8583\n",
      "Epoch 82/100\n",
      "17/17 [==============================] - 2s 95ms/step - loss: 0.3888 - accuracy: 0.8685 - val_loss: 0.4745 - val_accuracy: 0.8583\n",
      "Epoch 83/100\n",
      "17/17 [==============================] - 2s 94ms/step - loss: 0.3842 - accuracy: 0.8713 - val_loss: 0.4714 - val_accuracy: 0.8583\n",
      "Epoch 84/100\n",
      "17/17 [==============================] - 2s 95ms/step - loss: 0.3795 - accuracy: 0.8731 - val_loss: 0.4688 - val_accuracy: 0.8583\n",
      "Epoch 85/100\n",
      "17/17 [==============================] - 2s 94ms/step - loss: 0.3750 - accuracy: 0.8750 - val_loss: 0.4659 - val_accuracy: 0.8583\n",
      "Epoch 86/100\n",
      "17/17 [==============================] - 2s 94ms/step - loss: 0.3708 - accuracy: 0.8750 - val_loss: 0.4638 - val_accuracy: 0.8583\n",
      "Epoch 87/100\n",
      "17/17 [==============================] - 2s 95ms/step - loss: 0.3667 - accuracy: 0.8759 - val_loss: 0.4603 - val_accuracy: 0.8583\n",
      "Epoch 88/100\n",
      "17/17 [==============================] - 2s 94ms/step - loss: 0.3623 - accuracy: 0.8778 - val_loss: 0.4578 - val_accuracy: 0.8583\n",
      "Epoch 89/100\n",
      "17/17 [==============================] - 2s 94ms/step - loss: 0.3582 - accuracy: 0.8806 - val_loss: 0.4554 - val_accuracy: 0.8667\n",
      "Epoch 90/100\n",
      "17/17 [==============================] - 2s 95ms/step - loss: 0.3542 - accuracy: 0.8824 - val_loss: 0.4533 - val_accuracy: 0.8667\n",
      "Epoch 91/100\n",
      "17/17 [==============================] - 2s 95ms/step - loss: 0.3504 - accuracy: 0.8870 - val_loss: 0.4504 - val_accuracy: 0.8667\n",
      "Epoch 92/100\n",
      "17/17 [==============================] - 2s 94ms/step - loss: 0.3464 - accuracy: 0.8907 - val_loss: 0.4483 - val_accuracy: 0.8667\n",
      "Epoch 93/100\n",
      "17/17 [==============================] - 2s 94ms/step - loss: 0.3424 - accuracy: 0.8935 - val_loss: 0.4455 - val_accuracy: 0.8667\n",
      "Epoch 94/100\n",
      "17/17 [==============================] - 2s 99ms/step - loss: 0.3389 - accuracy: 0.8954 - val_loss: 0.4434 - val_accuracy: 0.8667\n",
      "Epoch 95/100\n",
      "17/17 [==============================] - 2s 95ms/step - loss: 0.3351 - accuracy: 0.8963 - val_loss: 0.4410 - val_accuracy: 0.8667\n",
      "Epoch 96/100\n",
      "17/17 [==============================] - 2s 94ms/step - loss: 0.3314 - accuracy: 0.8981 - val_loss: 0.4392 - val_accuracy: 0.8667\n",
      "Epoch 97/100\n",
      "17/17 [==============================] - 2s 94ms/step - loss: 0.3278 - accuracy: 0.9009 - val_loss: 0.4369 - val_accuracy: 0.8750\n",
      "Epoch 98/100\n",
      "17/17 [==============================] - 2s 96ms/step - loss: 0.3244 - accuracy: 0.9000 - val_loss: 0.4352 - val_accuracy: 0.8667\n",
      "Epoch 99/100\n",
      "17/17 [==============================] - 2s 94ms/step - loss: 0.3208 - accuracy: 0.9037 - val_loss: 0.4331 - val_accuracy: 0.8750\n",
      "Epoch 100/100\n",
      "17/17 [==============================] - 2s 95ms/step - loss: 0.3172 - accuracy: 0.9056 - val_loss: 0.4315 - val_accuracy: 0.8750\n"
     ]
    }
   ],
   "source": [
    "train_dataset = tf.data.Dataset.from_tensor_slices((X_train, Y_train)).batch(64)\n",
    "test_dataset = tf.data.Dataset.from_tensor_slices((X_test, Y_test)).batch(64)\n",
    "history = conv_model.fit(train_dataset, epochs=100, validation_data=test_dataset)"
   ]
  },
  {
   "cell_type": "markdown",
   "metadata": {},
   "source": [
    "<a name='5'></a>\n",
    "## 5 - History Object \n",
    "\n",
    "The history object is an output of the `.fit()` operation, and provides a record of all the loss and metric values in memory. It's stored as a dictionary that you can retrieve at `history.history`: "
   ]
  },
  {
   "cell_type": "code",
   "execution_count": 16,
   "metadata": {},
   "outputs": [
    {
     "data": {
      "text/plain": [
       "{'loss': [1.7953420877456665,\n",
       "  1.7808873653411865,\n",
       "  1.7711659669876099,\n",
       "  1.7621856927871704,\n",
       "  1.7514606714248657,\n",
       "  1.7378336191177368,\n",
       "  1.7203936576843262,\n",
       "  1.6983211040496826,\n",
       "  1.6718026399612427,\n",
       "  1.6402450799942017,\n",
       "  1.6031051874160767,\n",
       "  1.5591899156570435,\n",
       "  1.5069630146026611,\n",
       "  1.4506587982177734,\n",
       "  1.3892264366149902,\n",
       "  1.3334827423095703,\n",
       "  1.2803711891174316,\n",
       "  1.2328847646713257,\n",
       "  1.1892935037612915,\n",
       "  1.1493185758590698,\n",
       "  1.112719178199768,\n",
       "  1.0767372846603394,\n",
       "  1.0437657833099365,\n",
       "  1.013130784034729,\n",
       "  0.9849287271499634,\n",
       "  0.9581412076950073,\n",
       "  0.9322190880775452,\n",
       "  0.9072473645210266,\n",
       "  0.884880006313324,\n",
       "  0.8644117712974548,\n",
       "  0.8445895314216614,\n",
       "  0.8257338404655457,\n",
       "  0.8085734844207764,\n",
       "  0.7918433547019958,\n",
       "  0.7757639288902283,\n",
       "  0.7603325247764587,\n",
       "  0.745589554309845,\n",
       "  0.7314475178718567,\n",
       "  0.7176089286804199,\n",
       "  0.7041642665863037,\n",
       "  0.691497802734375,\n",
       "  0.6793404221534729,\n",
       "  0.6676998734474182,\n",
       "  0.6566832661628723,\n",
       "  0.6454429030418396,\n",
       "  0.6354800462722778,\n",
       "  0.6250386834144592,\n",
       "  0.615164577960968,\n",
       "  0.605618953704834,\n",
       "  0.5965919494628906,\n",
       "  0.5872983336448669,\n",
       "  0.578613817691803,\n",
       "  0.5704015493392944,\n",
       "  0.5618141293525696,\n",
       "  0.5535789132118225,\n",
       "  0.5454659461975098,\n",
       "  0.5379306674003601,\n",
       "  0.5303006172180176,\n",
       "  0.5229387283325195,\n",
       "  0.5160496830940247,\n",
       "  0.5088112354278564,\n",
       "  0.5018609166145325,\n",
       "  0.4955076575279236,\n",
       "  0.48891448974609375,\n",
       "  0.48215630650520325,\n",
       "  0.47613248229026794,\n",
       "  0.4699832499027252,\n",
       "  0.4637260437011719,\n",
       "  0.45774775743484497,\n",
       "  0.4518800377845764,\n",
       "  0.44619324803352356,\n",
       "  0.4404556453227997,\n",
       "  0.434844434261322,\n",
       "  0.4294009506702423,\n",
       "  0.42395076155662537,\n",
       "  0.41843435168266296,\n",
       "  0.4130330979824066,\n",
       "  0.4078541100025177,\n",
       "  0.40304484963417053,\n",
       "  0.39816030859947205,\n",
       "  0.39345434308052063,\n",
       "  0.38875991106033325,\n",
       "  0.38416969776153564,\n",
       "  0.3795226514339447,\n",
       "  0.37498021125793457,\n",
       "  0.3708030581474304,\n",
       "  0.36666274070739746,\n",
       "  0.3623296320438385,\n",
       "  0.3581561744213104,\n",
       "  0.35421624779701233,\n",
       "  0.35036998987197876,\n",
       "  0.34637686610221863,\n",
       "  0.3423590660095215,\n",
       "  0.338910311460495,\n",
       "  0.33506643772125244,\n",
       "  0.33136504888534546,\n",
       "  0.3278232216835022,\n",
       "  0.3244464099407196,\n",
       "  0.32077354192733765,\n",
       "  0.3171653151512146],\n",
       " 'accuracy': [0.18611110746860504,\n",
       "  0.20648148655891418,\n",
       "  0.3194444477558136,\n",
       "  0.3453703820705414,\n",
       "  0.36944442987442017,\n",
       "  0.4148148000240326,\n",
       "  0.43518519401550293,\n",
       "  0.45277777314186096,\n",
       "  0.45185184478759766,\n",
       "  0.4555555582046509,\n",
       "  0.46481481194496155,\n",
       "  0.4833333194255829,\n",
       "  0.4990740716457367,\n",
       "  0.5157407522201538,\n",
       "  0.5425925850868225,\n",
       "  0.5555555820465088,\n",
       "  0.5722222328186035,\n",
       "  0.5814814567565918,\n",
       "  0.6018518805503845,\n",
       "  0.6138888597488403,\n",
       "  0.6296296119689941,\n",
       "  0.6462963223457336,\n",
       "  0.6537036895751953,\n",
       "  0.6657407283782959,\n",
       "  0.675000011920929,\n",
       "  0.6814814805984497,\n",
       "  0.6953703761100769,\n",
       "  0.7046296000480652,\n",
       "  0.7120370268821716,\n",
       "  0.720370352268219,\n",
       "  0.7314814925193787,\n",
       "  0.7342592477798462,\n",
       "  0.7342592477798462,\n",
       "  0.7435185313224792,\n",
       "  0.7462962865829468,\n",
       "  0.760185182094574,\n",
       "  0.7638888955116272,\n",
       "  0.7666666507720947,\n",
       "  0.769444465637207,\n",
       "  0.7749999761581421,\n",
       "  0.7777777910232544,\n",
       "  0.7842592597007751,\n",
       "  0.7888888716697693,\n",
       "  0.7916666865348816,\n",
       "  0.7953703999519348,\n",
       "  0.800000011920929,\n",
       "  0.8055555820465088,\n",
       "  0.8101851940155029,\n",
       "  0.8138889074325562,\n",
       "  0.8148148059844971,\n",
       "  0.8194444179534912,\n",
       "  0.8212962746620178,\n",
       "  0.8231481313705444,\n",
       "  0.8222222328186035,\n",
       "  0.8259259462356567,\n",
       "  0.8268518447875977,\n",
       "  0.8259259462356567,\n",
       "  0.8296296000480652,\n",
       "  0.8305555582046509,\n",
       "  0.8324074149131775,\n",
       "  0.8342592716217041,\n",
       "  0.8370370268821716,\n",
       "  0.8370370268821716,\n",
       "  0.8379629850387573,\n",
       "  0.8398148417472839,\n",
       "  0.8398148417472839,\n",
       "  0.8425925970077515,\n",
       "  0.845370352268219,\n",
       "  0.8490740656852722,\n",
       "  0.8500000238418579,\n",
       "  0.8527777791023254,\n",
       "  0.855555534362793,\n",
       "  0.855555534362793,\n",
       "  0.855555534362793,\n",
       "  0.8564814925193787,\n",
       "  0.8583333492279053,\n",
       "  0.8611111044883728,\n",
       "  0.8620370626449585,\n",
       "  0.8638888597488403,\n",
       "  0.864814817905426,\n",
       "  0.8685185313224792,\n",
       "  0.8685185313224792,\n",
       "  0.8712962865829468,\n",
       "  0.8731481432914734,\n",
       "  0.875,\n",
       "  0.875,\n",
       "  0.8759258985519409,\n",
       "  0.8777777552604675,\n",
       "  0.8805555701255798,\n",
       "  0.8824074268341064,\n",
       "  0.8870370388031006,\n",
       "  0.8907407522201538,\n",
       "  0.8935185074806213,\n",
       "  0.895370364189148,\n",
       "  0.8962963223457336,\n",
       "  0.8981481194496155,\n",
       "  0.9009259343147278,\n",
       "  0.8999999761581421,\n",
       "  0.9037036895751953,\n",
       "  0.9055555462837219],\n",
       " 'val_loss': [1.7830584049224854,\n",
       "  1.7745035886764526,\n",
       "  1.7663161754608154,\n",
       "  1.7571978569030762,\n",
       "  1.7457517385482788,\n",
       "  1.7315316200256348,\n",
       "  1.7117565870285034,\n",
       "  1.690777063369751,\n",
       "  1.6644542217254639,\n",
       "  1.634234070777893,\n",
       "  1.599998950958252,\n",
       "  1.5604798793792725,\n",
       "  1.5223917961120605,\n",
       "  1.4690684080123901,\n",
       "  1.4143757820129395,\n",
       "  1.3610111474990845,\n",
       "  1.315747618675232,\n",
       "  1.2714526653289795,\n",
       "  1.2311325073242188,\n",
       "  1.1925694942474365,\n",
       "  1.156205415725708,\n",
       "  1.1191993951797485,\n",
       "  1.084142804145813,\n",
       "  1.0510145425796509,\n",
       "  1.0197036266326904,\n",
       "  0.9913805723190308,\n",
       "  0.9650353193283081,\n",
       "  0.9414488673210144,\n",
       "  0.9195935726165771,\n",
       "  0.89863520860672,\n",
       "  0.879277229309082,\n",
       "  0.8614289164543152,\n",
       "  0.8431357145309448,\n",
       "  0.825998842716217,\n",
       "  0.8098177313804626,\n",
       "  0.7944485545158386,\n",
       "  0.7794142961502075,\n",
       "  0.7643314599990845,\n",
       "  0.7499063611030579,\n",
       "  0.7359850406646729,\n",
       "  0.7233349084854126,\n",
       "  0.7111914753913879,\n",
       "  0.7003793120384216,\n",
       "  0.6885186433792114,\n",
       "  0.6788700819015503,\n",
       "  0.6691866517066956,\n",
       "  0.6593892574310303,\n",
       "  0.6502835750579834,\n",
       "  0.6424160003662109,\n",
       "  0.6346511840820312,\n",
       "  0.626989483833313,\n",
       "  0.6200696229934692,\n",
       "  0.613079845905304,\n",
       "  0.606056272983551,\n",
       "  0.5992003083229065,\n",
       "  0.5936964750289917,\n",
       "  0.5881445407867432,\n",
       "  0.5823485255241394,\n",
       "  0.5768663287162781,\n",
       "  0.5714262127876282,\n",
       "  0.5661487579345703,\n",
       "  0.56092768907547,\n",
       "  0.5560015439987183,\n",
       "  0.5505025386810303,\n",
       "  0.5460224151611328,\n",
       "  0.540904700756073,\n",
       "  0.536092221736908,\n",
       "  0.5310742259025574,\n",
       "  0.5266206860542297,\n",
       "  0.5214020609855652,\n",
       "  0.5173484086990356,\n",
       "  0.5123908519744873,\n",
       "  0.5077361464500427,\n",
       "  0.5040035843849182,\n",
       "  0.49975553154945374,\n",
       "  0.4960402846336365,\n",
       "  0.4927907884120941,\n",
       "  0.4884878098964691,\n",
       "  0.48446834087371826,\n",
       "  0.4810725748538971,\n",
       "  0.47776785492897034,\n",
       "  0.4745078384876251,\n",
       "  0.4714294672012329,\n",
       "  0.4687514901161194,\n",
       "  0.4658869504928589,\n",
       "  0.46377798914909363,\n",
       "  0.46032676100730896,\n",
       "  0.45784124732017517,\n",
       "  0.45538845658302307,\n",
       "  0.4532589614391327,\n",
       "  0.45038360357284546,\n",
       "  0.44830310344696045,\n",
       "  0.445515513420105,\n",
       "  0.44344550371170044,\n",
       "  0.4409954845905304,\n",
       "  0.4392426609992981,\n",
       "  0.4369487166404724,\n",
       "  0.43516066670417786,\n",
       "  0.43305155634880066,\n",
       "  0.43153953552246094],\n",
       " 'val_accuracy': [0.21666666865348816,\n",
       "  0.30000001192092896,\n",
       "  0.4000000059604645,\n",
       "  0.4333333373069763,\n",
       "  0.40833333134651184,\n",
       "  0.44999998807907104,\n",
       "  0.4749999940395355,\n",
       "  0.5166666507720947,\n",
       "  0.5083333253860474,\n",
       "  0.4583333432674408,\n",
       "  0.5,\n",
       "  0.44999998807907104,\n",
       "  0.42500001192092896,\n",
       "  0.4416666626930237,\n",
       "  0.44999998807907104,\n",
       "  0.4749999940395355,\n",
       "  0.5083333253860474,\n",
       "  0.5666666626930237,\n",
       "  0.5416666865348816,\n",
       "  0.574999988079071,\n",
       "  0.5833333134651184,\n",
       "  0.6083333492279053,\n",
       "  0.6083333492279053,\n",
       "  0.6499999761581421,\n",
       "  0.6666666865348816,\n",
       "  0.6916666626930237,\n",
       "  0.6916666626930237,\n",
       "  0.7083333134651184,\n",
       "  0.7083333134651184,\n",
       "  0.699999988079071,\n",
       "  0.7166666388511658,\n",
       "  0.7333333492279053,\n",
       "  0.7416666746139526,\n",
       "  0.7333333492279053,\n",
       "  0.7250000238418579,\n",
       "  0.7333333492279053,\n",
       "  0.75,\n",
       "  0.75,\n",
       "  0.75,\n",
       "  0.75,\n",
       "  0.75,\n",
       "  0.7583333253860474,\n",
       "  0.7666666507720947,\n",
       "  0.7916666865348816,\n",
       "  0.7916666865348816,\n",
       "  0.7916666865348816,\n",
       "  0.7916666865348816,\n",
       "  0.7916666865348816,\n",
       "  0.7916666865348816,\n",
       "  0.7916666865348816,\n",
       "  0.7916666865348816,\n",
       "  0.800000011920929,\n",
       "  0.800000011920929,\n",
       "  0.800000011920929,\n",
       "  0.800000011920929,\n",
       "  0.800000011920929,\n",
       "  0.800000011920929,\n",
       "  0.800000011920929,\n",
       "  0.800000011920929,\n",
       "  0.7916666865348816,\n",
       "  0.800000011920929,\n",
       "  0.800000011920929,\n",
       "  0.800000011920929,\n",
       "  0.8166666626930237,\n",
       "  0.824999988079071,\n",
       "  0.8333333134651184,\n",
       "  0.8333333134651184,\n",
       "  0.8333333134651184,\n",
       "  0.8333333134651184,\n",
       "  0.8500000238418579,\n",
       "  0.8500000238418579,\n",
       "  0.8500000238418579,\n",
       "  0.8500000238418579,\n",
       "  0.8500000238418579,\n",
       "  0.8583333492279053,\n",
       "  0.8583333492279053,\n",
       "  0.8583333492279053,\n",
       "  0.8583333492279053,\n",
       "  0.8583333492279053,\n",
       "  0.8583333492279053,\n",
       "  0.8583333492279053,\n",
       "  0.8583333492279053,\n",
       "  0.8583333492279053,\n",
       "  0.8583333492279053,\n",
       "  0.8583333492279053,\n",
       "  0.8583333492279053,\n",
       "  0.8583333492279053,\n",
       "  0.8583333492279053,\n",
       "  0.8666666746139526,\n",
       "  0.8666666746139526,\n",
       "  0.8666666746139526,\n",
       "  0.8666666746139526,\n",
       "  0.8666666746139526,\n",
       "  0.8666666746139526,\n",
       "  0.8666666746139526,\n",
       "  0.8666666746139526,\n",
       "  0.875,\n",
       "  0.8666666746139526,\n",
       "  0.875,\n",
       "  0.875]}"
      ]
     },
     "execution_count": 16,
     "metadata": {},
     "output_type": "execute_result"
    }
   ],
   "source": [
    "history.history"
   ]
  },
  {
   "cell_type": "markdown",
   "metadata": {},
   "source": [
    "Now visualize the loss over time using `history.history`: "
   ]
  },
  {
   "cell_type": "code",
   "execution_count": 17,
   "metadata": {},
   "outputs": [
    {
     "data": {
      "text/plain": [
       "[Text(0, 0.5, 'Accuracy'), Text(0.5, 0, 'Epoch')]"
      ]
     },
     "execution_count": 17,
     "metadata": {},
     "output_type": "execute_result"
    },
    {
     "data": {
      "image/png": "[encoded data removed]",
      "text/plain": [
       "<Figure size 864x576 with 1 Axes>"
      ]
     },
     "metadata": {
      "needs_background": "light"
     },
     "output_type": "display_data"
    },
    {
     "data": {
      "image/png": "[encoded data removed]",
      "text/plain": [
       "<Figure size 864x576 with 1 Axes>"
      ]
     },
     "metadata": {
      "needs_background": "light"
     },
     "output_type": "display_data"
    }
   ],
   "source": [
    "# The history.history[\"loss\"] entry is a dictionary with as many values as epochs that the\n",
    "# model was trained on. \n",
    "df_loss_acc = pd.DataFrame(history.history)\n",
    "df_loss= df_loss_acc[['loss','val_loss']]\n",
    "df_loss.rename(columns={'loss':'train','val_loss':'validation'},inplace=True)\n",
    "df_acc= df_loss_acc[['accuracy','val_accuracy']]\n",
    "df_acc.rename(columns={'accuracy':'train','val_accuracy':'validation'},inplace=True)\n",
    "df_loss.plot(title='Model loss',figsize=(12,8)).set(xlabel='Epoch',ylabel='Loss')\n",
    "df_acc.plot(title='Model Accuracy',figsize=(12,8)).set(xlabel='Epoch',ylabel='Accuracy')"
   ]
  },
  {
   "cell_type": "markdown",
   "metadata": {},
   "source": [
    "**Congratulations**! You've finished the assignment and built two models: One that recognizes  smiles, and another that recognizes SIGN language with almost 80% accuracy on the test set. In addition to that, you now also understand the applications of two Keras APIs: Sequential and Functional. Nicely done! \n",
    "\n",
    "By now, you know a bit about how the Functional API works and may have glimpsed the possibilities. In your next assignment, you'll really get a feel for its power when you get the opportunity to build a very deep ConvNet, using ResNets! "
   ]
  },
  {
   "cell_type": "markdown",
   "metadata": {},
   "source": [
    "<a name='6'></a>\n",
    "## 6 - Bibliography\n",
    "\n",
    "You're always encouraged to read the official documentation. To that end, you can find the docs for the Sequential and Functional APIs here: \n",
    "\n",
    "https://www.tensorflow.org/guide/keras/sequential_model\n",
    "\n",
    "https://www.tensorflow.org/guide/keras/functional"
   ]
  }
 ],
 "metadata": {
  "coursera": {
   "course_slug": "convolutional-neural-networks",
   "graded_item_id": "bwbJV",
   "launcher_item_id": "0TkXB"
  },
  "kernelspec": {
   "display_name": "Python 3",
   "language": "python",
   "name": "python3"
  },
  "language_info": {
   "codemirror_mode": {
    "name": "ipython",
    "version": 3
   },
   "file_extension": ".py",
   "mimetype": "text/x-python",
   "name": "python",
   "nbconvert_exporter": "python",
   "pygments_lexer": "ipython3",
   "version": "3.7.6"
  }
 },
 "nbformat": 4,
 "nbformat_minor": 2
}
